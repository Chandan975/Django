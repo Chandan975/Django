{
  "nbformat": 4,
  "nbformat_minor": 0,
  "metadata": {
    "colab": {
      "name": "Time Series Modeling using Scikit, Pandas, and Numpy.ipynb",
      "provenance": [],
      "include_colab_link": true
    },
    "kernelspec": {
      "name": "python3",
      "display_name": "Python 3"
    },
    "language_info": {
      "name": "python"
    }
  },
  "cells": [
    {
      "cell_type": "markdown",
      "metadata": {
        "id": "view-in-github",
        "colab_type": "text"
      },
      "source": [
        "<a href=\"https://colab.research.google.com/github/Chandan975/Django/blob/main/Time_Series_Modeling_using_Scikit%2C_Pandas%2C_and_Numpy.ipynb\" target=\"_parent\"><img src=\"https://colab.research.google.com/assets/colab-badge.svg\" alt=\"Open In Colab\"/></a>"
      ]
    },
    {
      "cell_type": "code",
      "source": [
        "import pandas as pd\n",
        "import numpy as np\n",
        "from sklearn.linear_model import LinearRegression\n",
        "from sklearn.neural_network import MLPRegressor\n",
        "from sklearn.neighbors import KNeighborsRegressor\n",
        "from sklearn.ensemble import RandomForestRegressor\n",
        "from sklearn.svm import SVR\n",
        "from sklearn.model_selection import cross_val_score\n",
        "import matplotlib.pyplot as plt\n",
        "\n"
      ],
      "metadata": {
        "id": "LE7d0GhA6huJ"
      },
      "execution_count": null,
      "outputs": []
    },
    {
      "cell_type": "code",
      "execution_count": null,
      "metadata": {
        "id": "hGISFc_75G40"
      },
      "outputs": [],
      "source": [
        "url='https://raw.githubusercontent.com/jenfly/opsd/master/opsd_germany_daily.csv'\n",
        "data = pd.read_csv(url,sep=\",\")"
      ]
    },
    {
      "cell_type": "code",
      "source": [
        "data.head()"
      ],
      "metadata": {
        "colab": {
          "base_uri": "https://localhost:8080/",
          "height": 206
        },
        "id": "_Inif4Hv6pde",
        "outputId": "e1e4d155-465a-4e02-f503-4b56cf8fba50"
      },
      "execution_count": null,
      "outputs": [
        {
          "output_type": "execute_result",
          "data": {
            "text/plain": [
              "         Date  Consumption  Wind  Solar  Wind+Solar\n",
              "0  2006-01-01     1069.184   NaN    NaN         NaN\n",
              "1  2006-01-02     1380.521   NaN    NaN         NaN\n",
              "2  2006-01-03     1442.533   NaN    NaN         NaN\n",
              "3  2006-01-04     1457.217   NaN    NaN         NaN\n",
              "4  2006-01-05     1477.131   NaN    NaN         NaN"
            ],
            "text/html": [
              "\n",
              "  <div id=\"df-8492891e-d9c8-4645-bc3f-0fc208789ace\">\n",
              "    <div class=\"colab-df-container\">\n",
              "      <div>\n",
              "<style scoped>\n",
              "    .dataframe tbody tr th:only-of-type {\n",
              "        vertical-align: middle;\n",
              "    }\n",
              "\n",
              "    .dataframe tbody tr th {\n",
              "        vertical-align: top;\n",
              "    }\n",
              "\n",
              "    .dataframe thead th {\n",
              "        text-align: right;\n",
              "    }\n",
              "</style>\n",
              "<table border=\"1\" class=\"dataframe\">\n",
              "  <thead>\n",
              "    <tr style=\"text-align: right;\">\n",
              "      <th></th>\n",
              "      <th>Date</th>\n",
              "      <th>Consumption</th>\n",
              "      <th>Wind</th>\n",
              "      <th>Solar</th>\n",
              "      <th>Wind+Solar</th>\n",
              "    </tr>\n",
              "  </thead>\n",
              "  <tbody>\n",
              "    <tr>\n",
              "      <th>0</th>\n",
              "      <td>2006-01-01</td>\n",
              "      <td>1069.184</td>\n",
              "      <td>NaN</td>\n",
              "      <td>NaN</td>\n",
              "      <td>NaN</td>\n",
              "    </tr>\n",
              "    <tr>\n",
              "      <th>1</th>\n",
              "      <td>2006-01-02</td>\n",
              "      <td>1380.521</td>\n",
              "      <td>NaN</td>\n",
              "      <td>NaN</td>\n",
              "      <td>NaN</td>\n",
              "    </tr>\n",
              "    <tr>\n",
              "      <th>2</th>\n",
              "      <td>2006-01-03</td>\n",
              "      <td>1442.533</td>\n",
              "      <td>NaN</td>\n",
              "      <td>NaN</td>\n",
              "      <td>NaN</td>\n",
              "    </tr>\n",
              "    <tr>\n",
              "      <th>3</th>\n",
              "      <td>2006-01-04</td>\n",
              "      <td>1457.217</td>\n",
              "      <td>NaN</td>\n",
              "      <td>NaN</td>\n",
              "      <td>NaN</td>\n",
              "    </tr>\n",
              "    <tr>\n",
              "      <th>4</th>\n",
              "      <td>2006-01-05</td>\n",
              "      <td>1477.131</td>\n",
              "      <td>NaN</td>\n",
              "      <td>NaN</td>\n",
              "      <td>NaN</td>\n",
              "    </tr>\n",
              "  </tbody>\n",
              "</table>\n",
              "</div>\n",
              "      <button class=\"colab-df-convert\" onclick=\"convertToInteractive('df-8492891e-d9c8-4645-bc3f-0fc208789ace')\"\n",
              "              title=\"Convert this dataframe to an interactive table.\"\n",
              "              style=\"display:none;\">\n",
              "        \n",
              "  <svg xmlns=\"http://www.w3.org/2000/svg\" height=\"24px\"viewBox=\"0 0 24 24\"\n",
              "       width=\"24px\">\n",
              "    <path d=\"M0 0h24v24H0V0z\" fill=\"none\"/>\n",
              "    <path d=\"M18.56 5.44l.94 2.06.94-2.06 2.06-.94-2.06-.94-.94-2.06-.94 2.06-2.06.94zm-11 1L8.5 8.5l.94-2.06 2.06-.94-2.06-.94L8.5 2.5l-.94 2.06-2.06.94zm10 10l.94 2.06.94-2.06 2.06-.94-2.06-.94-.94-2.06-.94 2.06-2.06.94z\"/><path d=\"M17.41 7.96l-1.37-1.37c-.4-.4-.92-.59-1.43-.59-.52 0-1.04.2-1.43.59L10.3 9.45l-7.72 7.72c-.78.78-.78 2.05 0 2.83L4 21.41c.39.39.9.59 1.41.59.51 0 1.02-.2 1.41-.59l7.78-7.78 2.81-2.81c.8-.78.8-2.07 0-2.86zM5.41 20L4 18.59l7.72-7.72 1.47 1.35L5.41 20z\"/>\n",
              "  </svg>\n",
              "      </button>\n",
              "      \n",
              "  <style>\n",
              "    .colab-df-container {\n",
              "      display:flex;\n",
              "      flex-wrap:wrap;\n",
              "      gap: 12px;\n",
              "    }\n",
              "\n",
              "    .colab-df-convert {\n",
              "      background-color: #E8F0FE;\n",
              "      border: none;\n",
              "      border-radius: 50%;\n",
              "      cursor: pointer;\n",
              "      display: none;\n",
              "      fill: #1967D2;\n",
              "      height: 32px;\n",
              "      padding: 0 0 0 0;\n",
              "      width: 32px;\n",
              "    }\n",
              "\n",
              "    .colab-df-convert:hover {\n",
              "      background-color: #E2EBFA;\n",
              "      box-shadow: 0px 1px 2px rgba(60, 64, 67, 0.3), 0px 1px 3px 1px rgba(60, 64, 67, 0.15);\n",
              "      fill: #174EA6;\n",
              "    }\n",
              "\n",
              "    [theme=dark] .colab-df-convert {\n",
              "      background-color: #3B4455;\n",
              "      fill: #D2E3FC;\n",
              "    }\n",
              "\n",
              "    [theme=dark] .colab-df-convert:hover {\n",
              "      background-color: #434B5C;\n",
              "      box-shadow: 0px 1px 3px 1px rgba(0, 0, 0, 0.15);\n",
              "      filter: drop-shadow(0px 1px 2px rgba(0, 0, 0, 0.3));\n",
              "      fill: #FFFFFF;\n",
              "    }\n",
              "  </style>\n",
              "\n",
              "      <script>\n",
              "        const buttonEl =\n",
              "          document.querySelector('#df-8492891e-d9c8-4645-bc3f-0fc208789ace button.colab-df-convert');\n",
              "        buttonEl.style.display =\n",
              "          google.colab.kernel.accessAllowed ? 'block' : 'none';\n",
              "\n",
              "        async function convertToInteractive(key) {\n",
              "          const element = document.querySelector('#df-8492891e-d9c8-4645-bc3f-0fc208789ace');\n",
              "          const dataTable =\n",
              "            await google.colab.kernel.invokeFunction('convertToInteractive',\n",
              "                                                     [key], {});\n",
              "          if (!dataTable) return;\n",
              "\n",
              "          const docLinkHtml = 'Like what you see? Visit the ' +\n",
              "            '<a target=\"_blank\" href=https://colab.research.google.com/notebooks/data_table.ipynb>data table notebook</a>'\n",
              "            + ' to learn more about interactive tables.';\n",
              "          element.innerHTML = '';\n",
              "          dataTable['output_type'] = 'display_data';\n",
              "          await google.colab.output.renderOutput(dataTable, element);\n",
              "          const docLink = document.createElement('div');\n",
              "          docLink.innerHTML = docLinkHtml;\n",
              "          element.appendChild(docLink);\n",
              "        }\n",
              "      </script>\n",
              "    </div>\n",
              "  </div>\n",
              "  "
            ]
          },
          "metadata": {},
          "execution_count": 22
        }
      ]
    },
    {
      "cell_type": "code",
      "source": [
        "# to explicitly convert the date column to type DATETIME\n",
        "data['Date'] = pd.to_datetime(data['Date'])\n",
        "data = data.set_index('Date')"
      ],
      "metadata": {
        "id": "LyLo5QP16qkx"
      },
      "execution_count": null,
      "outputs": []
    },
    {
      "cell_type": "markdown",
      "source": [
        "Defining the Modeling task\n",
        "\n",
        "#*Goals of Prediction*\n",
        "Our aim is to predict Consumption (ideally for future unseen dates) from this time series dataset.\n",
        "\n",
        "#*Training and Test set*\n",
        "We will be using 10 years of data for training i.e. 2006–2016 and last year’s data for testing i.e. 2017.\n",
        "\n",
        "#*Performance Measure*\n",
        "In order to evaluate how good our model is, we would be using R-squared and Root Mean Squared Error (but will be printing all relevant metrics for you to take the final call)\n",
        "\n",
        "#*Helper Functions*\n",
        "In order to print all performance metrics relevant to a regression task (such as MAE and R-square), we will be defining the regression_results function."
      ],
      "metadata": {
        "id": "3uP1VP8d68On"
      }
    },
    {
      "cell_type": "code",
      "source": [
        "import sklearn.metrics as metrics\n",
        "def regression_results(y_true, y_pred):\n",
        "    # Regression metrics\n",
        "    explained_variance=metrics.explained_variance_score(y_true, y_pred)\n",
        "    mean_absolute_error=metrics.mean_absolute_error(y_true, y_pred) \n",
        "    mse=metrics.mean_squared_error(y_true, y_pred) \n",
        "    mean_squared_log_error=metrics.mean_squared_log_error(y_true, y_pred)\n",
        "    median_absolute_error=metrics.median_absolute_error(y_true, y_pred)\n",
        "    r2=metrics.r2_score(y_true, y_pred)\n",
        "    print('explained_variance: ', round(explained_variance,4))    \n",
        "    print('mean_squared_log_error: ', round(mean_squared_log_error,4))\n",
        "    print('r2: ', round(r2,4))\n",
        "    print('MAE: ', round(mean_absolute_error,4))\n",
        "    print('MSE: ', round(mse,4))\n",
        "    print('RMSE: ', round(np.sqrt(mse),4))"
      ],
      "metadata": {
        "id": "_CUkUSJB6x0J"
      },
      "execution_count": null,
      "outputs": []
    },
    {
      "cell_type": "markdown",
      "source": [
        "#Feature Engineering\n",
        "\n",
        "#*As a baseline, we choose a simplistic model, one that predicts today’s consumption value based on*\n",
        "\n",
        "yesterday’s consumption value and;\n",
        "\n",
        "difference between yesterday and the day before yesterday’s consumption value."
      ],
      "metadata": {
        "id": "q8iZ5np17vlO"
      }
    },
    {
      "cell_type": "code",
      "source": [
        "# creating new dataframe from consumption column\n",
        "data_consumption = data[['Consumption']]\n",
        "# inserting new column with yesterday's consumption values\n",
        "data_consumption.loc[:,'Yesterday'] = data_consumption.loc[:,'Consumption'].shift()\n",
        "# inserting another column with difference between yesterday and day before yesterday's consumption values.\n",
        "data_consumption.loc[:,'Yesterday_Diff'] = data_consumption.loc[:,'Yesterday'].diff()\n",
        "# dropping NAs\n",
        "data_consumption = data_consumption.dropna()"
      ],
      "metadata": {
        "colab": {
          "base_uri": "https://localhost:8080/"
        },
        "id": "4aecaUng7dlD",
        "outputId": "9bea1353-fa46-48ae-8d39-e2454c94c768"
      },
      "execution_count": null,
      "outputs": [
        {
          "output_type": "stream",
          "name": "stderr",
          "text": [
            "/usr/local/lib/python3.7/dist-packages/pandas/core/indexing.py:1667: SettingWithCopyWarning: \n",
            "A value is trying to be set on a copy of a slice from a DataFrame.\n",
            "Try using .loc[row_indexer,col_indexer] = value instead\n",
            "\n",
            "See the caveats in the documentation: https://pandas.pydata.org/pandas-docs/stable/user_guide/indexing.html#returning-a-view-versus-a-copy\n",
            "  self.obj[key] = value\n"
          ]
        }
      ]
    },
    {
      "cell_type": "code",
      "source": [
        "data_consumption"
      ],
      "metadata": {
        "colab": {
          "base_uri": "https://localhost:8080/",
          "height": 455
        },
        "id": "9sfxfRWb8B4m",
        "outputId": "86d8c470-dedc-4df8-fcf3-64bebc979339"
      },
      "execution_count": null,
      "outputs": [
        {
          "output_type": "execute_result",
          "data": {
            "text/plain": [
              "            Consumption   Yesterday  Yesterday_Diff\n",
              "Date                                               \n",
              "2006-01-03   1442.53300  1380.52100       311.33700\n",
              "2006-01-04   1457.21700  1442.53300        62.01200\n",
              "2006-01-05   1477.13100  1457.21700        14.68400\n",
              "2006-01-06   1403.42700  1477.13100        19.91400\n",
              "2006-01-07   1300.28700  1403.42700       -73.70400\n",
              "...                 ...         ...             ...\n",
              "2017-12-27   1263.94091  1130.11683        18.83345\n",
              "2017-12-28   1299.86398  1263.94091       133.82408\n",
              "2017-12-29   1295.08753  1299.86398        35.92307\n",
              "2017-12-30   1215.44897  1295.08753        -4.77645\n",
              "2017-12-31   1107.11488  1215.44897       -79.63856\n",
              "\n",
              "[4381 rows x 3 columns]"
            ],
            "text/html": [
              "\n",
              "  <div id=\"df-38820879-24c5-4878-bcec-3076ae3235ba\">\n",
              "    <div class=\"colab-df-container\">\n",
              "      <div>\n",
              "<style scoped>\n",
              "    .dataframe tbody tr th:only-of-type {\n",
              "        vertical-align: middle;\n",
              "    }\n",
              "\n",
              "    .dataframe tbody tr th {\n",
              "        vertical-align: top;\n",
              "    }\n",
              "\n",
              "    .dataframe thead th {\n",
              "        text-align: right;\n",
              "    }\n",
              "</style>\n",
              "<table border=\"1\" class=\"dataframe\">\n",
              "  <thead>\n",
              "    <tr style=\"text-align: right;\">\n",
              "      <th></th>\n",
              "      <th>Consumption</th>\n",
              "      <th>Yesterday</th>\n",
              "      <th>Yesterday_Diff</th>\n",
              "    </tr>\n",
              "    <tr>\n",
              "      <th>Date</th>\n",
              "      <th></th>\n",
              "      <th></th>\n",
              "      <th></th>\n",
              "    </tr>\n",
              "  </thead>\n",
              "  <tbody>\n",
              "    <tr>\n",
              "      <th>2006-01-03</th>\n",
              "      <td>1442.53300</td>\n",
              "      <td>1380.52100</td>\n",
              "      <td>311.33700</td>\n",
              "    </tr>\n",
              "    <tr>\n",
              "      <th>2006-01-04</th>\n",
              "      <td>1457.21700</td>\n",
              "      <td>1442.53300</td>\n",
              "      <td>62.01200</td>\n",
              "    </tr>\n",
              "    <tr>\n",
              "      <th>2006-01-05</th>\n",
              "      <td>1477.13100</td>\n",
              "      <td>1457.21700</td>\n",
              "      <td>14.68400</td>\n",
              "    </tr>\n",
              "    <tr>\n",
              "      <th>2006-01-06</th>\n",
              "      <td>1403.42700</td>\n",
              "      <td>1477.13100</td>\n",
              "      <td>19.91400</td>\n",
              "    </tr>\n",
              "    <tr>\n",
              "      <th>2006-01-07</th>\n",
              "      <td>1300.28700</td>\n",
              "      <td>1403.42700</td>\n",
              "      <td>-73.70400</td>\n",
              "    </tr>\n",
              "    <tr>\n",
              "      <th>...</th>\n",
              "      <td>...</td>\n",
              "      <td>...</td>\n",
              "      <td>...</td>\n",
              "    </tr>\n",
              "    <tr>\n",
              "      <th>2017-12-27</th>\n",
              "      <td>1263.94091</td>\n",
              "      <td>1130.11683</td>\n",
              "      <td>18.83345</td>\n",
              "    </tr>\n",
              "    <tr>\n",
              "      <th>2017-12-28</th>\n",
              "      <td>1299.86398</td>\n",
              "      <td>1263.94091</td>\n",
              "      <td>133.82408</td>\n",
              "    </tr>\n",
              "    <tr>\n",
              "      <th>2017-12-29</th>\n",
              "      <td>1295.08753</td>\n",
              "      <td>1299.86398</td>\n",
              "      <td>35.92307</td>\n",
              "    </tr>\n",
              "    <tr>\n",
              "      <th>2017-12-30</th>\n",
              "      <td>1215.44897</td>\n",
              "      <td>1295.08753</td>\n",
              "      <td>-4.77645</td>\n",
              "    </tr>\n",
              "    <tr>\n",
              "      <th>2017-12-31</th>\n",
              "      <td>1107.11488</td>\n",
              "      <td>1215.44897</td>\n",
              "      <td>-79.63856</td>\n",
              "    </tr>\n",
              "  </tbody>\n",
              "</table>\n",
              "<p>4381 rows × 3 columns</p>\n",
              "</div>\n",
              "      <button class=\"colab-df-convert\" onclick=\"convertToInteractive('df-38820879-24c5-4878-bcec-3076ae3235ba')\"\n",
              "              title=\"Convert this dataframe to an interactive table.\"\n",
              "              style=\"display:none;\">\n",
              "        \n",
              "  <svg xmlns=\"http://www.w3.org/2000/svg\" height=\"24px\"viewBox=\"0 0 24 24\"\n",
              "       width=\"24px\">\n",
              "    <path d=\"M0 0h24v24H0V0z\" fill=\"none\"/>\n",
              "    <path d=\"M18.56 5.44l.94 2.06.94-2.06 2.06-.94-2.06-.94-.94-2.06-.94 2.06-2.06.94zm-11 1L8.5 8.5l.94-2.06 2.06-.94-2.06-.94L8.5 2.5l-.94 2.06-2.06.94zm10 10l.94 2.06.94-2.06 2.06-.94-2.06-.94-.94-2.06-.94 2.06-2.06.94z\"/><path d=\"M17.41 7.96l-1.37-1.37c-.4-.4-.92-.59-1.43-.59-.52 0-1.04.2-1.43.59L10.3 9.45l-7.72 7.72c-.78.78-.78 2.05 0 2.83L4 21.41c.39.39.9.59 1.41.59.51 0 1.02-.2 1.41-.59l7.78-7.78 2.81-2.81c.8-.78.8-2.07 0-2.86zM5.41 20L4 18.59l7.72-7.72 1.47 1.35L5.41 20z\"/>\n",
              "  </svg>\n",
              "      </button>\n",
              "      \n",
              "  <style>\n",
              "    .colab-df-container {\n",
              "      display:flex;\n",
              "      flex-wrap:wrap;\n",
              "      gap: 12px;\n",
              "    }\n",
              "\n",
              "    .colab-df-convert {\n",
              "      background-color: #E8F0FE;\n",
              "      border: none;\n",
              "      border-radius: 50%;\n",
              "      cursor: pointer;\n",
              "      display: none;\n",
              "      fill: #1967D2;\n",
              "      height: 32px;\n",
              "      padding: 0 0 0 0;\n",
              "      width: 32px;\n",
              "    }\n",
              "\n",
              "    .colab-df-convert:hover {\n",
              "      background-color: #E2EBFA;\n",
              "      box-shadow: 0px 1px 2px rgba(60, 64, 67, 0.3), 0px 1px 3px 1px rgba(60, 64, 67, 0.15);\n",
              "      fill: #174EA6;\n",
              "    }\n",
              "\n",
              "    [theme=dark] .colab-df-convert {\n",
              "      background-color: #3B4455;\n",
              "      fill: #D2E3FC;\n",
              "    }\n",
              "\n",
              "    [theme=dark] .colab-df-convert:hover {\n",
              "      background-color: #434B5C;\n",
              "      box-shadow: 0px 1px 3px 1px rgba(0, 0, 0, 0.15);\n",
              "      filter: drop-shadow(0px 1px 2px rgba(0, 0, 0, 0.3));\n",
              "      fill: #FFFFFF;\n",
              "    }\n",
              "  </style>\n",
              "\n",
              "      <script>\n",
              "        const buttonEl =\n",
              "          document.querySelector('#df-38820879-24c5-4878-bcec-3076ae3235ba button.colab-df-convert');\n",
              "        buttonEl.style.display =\n",
              "          google.colab.kernel.accessAllowed ? 'block' : 'none';\n",
              "\n",
              "        async function convertToInteractive(key) {\n",
              "          const element = document.querySelector('#df-38820879-24c5-4878-bcec-3076ae3235ba');\n",
              "          const dataTable =\n",
              "            await google.colab.kernel.invokeFunction('convertToInteractive',\n",
              "                                                     [key], {});\n",
              "          if (!dataTable) return;\n",
              "\n",
              "          const docLinkHtml = 'Like what you see? Visit the ' +\n",
              "            '<a target=\"_blank\" href=https://colab.research.google.com/notebooks/data_table.ipynb>data table notebook</a>'\n",
              "            + ' to learn more about interactive tables.';\n",
              "          element.innerHTML = '';\n",
              "          dataTable['output_type'] = 'display_data';\n",
              "          await google.colab.output.renderOutput(dataTable, element);\n",
              "          const docLink = document.createElement('div');\n",
              "          docLink.innerHTML = docLinkHtml;\n",
              "          element.appendChild(docLink);\n",
              "        }\n",
              "      </script>\n",
              "    </div>\n",
              "  </div>\n",
              "  "
            ]
          },
          "metadata": {},
          "execution_count": 26
        }
      ]
    },
    {
      "cell_type": "markdown",
      "source": [
        "#Defining training and test sets"
      ],
      "metadata": {
        "id": "ZSzTr9lC8UJl"
      }
    },
    {
      "cell_type": "code",
      "source": [
        "X_train = data_consumption[:'2016'].drop(['Consumption'], axis = 1)\n",
        "y_train = data_consumption.loc[:'2016', 'Consumption']\n",
        "X_test = data_consumption['2017'].drop(['Consumption'], axis = 1)\n",
        "y_test = data_consumption.loc['2017', 'Consumption']"
      ],
      "metadata": {
        "colab": {
          "base_uri": "https://localhost:8080/"
        },
        "id": "d46TQ_Oe8QII",
        "outputId": "d8eac852-13e3-4c73-fb63-a4d01f833976"
      },
      "execution_count": null,
      "outputs": [
        {
          "output_type": "stream",
          "name": "stderr",
          "text": [
            "/usr/local/lib/python3.7/dist-packages/ipykernel_launcher.py:3: FutureWarning: Indexing a DataFrame with a datetimelike index using a single string to slice the rows, like `frame[string]`, is deprecated and will be removed in a future version. Use `frame.loc[string]` instead.\n",
            "  This is separate from the ipykernel package so we can avoid doing imports until\n"
          ]
        }
      ]
    },
    {
      "cell_type": "markdown",
      "source": [
        "#Cross Validation on Time series data\n",
        "\n",
        "#*A better alternative for cross validation on time series data (than K-fold CV) is Forward Chaining strategy.*\n",
        "\n",
        "In forward chaining, say with 3 folds, the train and validation sets look like:\n",
        "\n",
        "fold 1: training [1], validation [2]\n",
        "fold 2: training [1 2], validation [3]\n",
        "fold 3: training [1 2 3], validation [4]\n",
        "\n",
        "where 1, 2, 3, 4 represent the year. This way successive training sets are supersets of those that come before them.\n",
        "\n",
        "\n",
        "Luckily for us, sklearn has a provision for implementing such train test split using TimeSeriesSplit."
      ],
      "metadata": {
        "id": "wzC8Ajpa8jb-"
      }
    },
    {
      "cell_type": "code",
      "source": [
        "from sklearn.model_selection import TimeSeriesSplit"
      ],
      "metadata": {
        "id": "uewHog9E8aj3"
      },
      "execution_count": null,
      "outputs": []
    },
    {
      "cell_type": "markdown",
      "source": [
        "The TimeSerieSplit function takes as input the number of splits. Since our training data has 11 unique years (2006 -2016), we would be setting n_splits = 10. This way we have neat training and validation sets:\n",
        "\n",
        "\n",
        "fold 1: training [2006], validation [2007]\n",
        "fold 2: training [2006 2007], validation [2008]\n",
        "fold 3: training [2006 2007 2008], validation [2009]\n",
        "fold 4: training [2006 2007 2008 2009], validation [2010]\n",
        "fold 5: training [2006 2007 2008 2009 2010], validation [2011]\n",
        "fold 6: training [2006 2007 2008 2009 2010 2011], validation [2012]\n",
        "fold 7: training [2006 2007 2008 2009 2010 2011 2012], validation [2013]\n",
        "fold 8: training [2006 2007 2008 2009 2010 2011 2012 2013], validation [2014]\n",
        "fold 9: training [2006 2007 2008 2009 2010 2011 2012 2013 2014], validation [2015]\n",
        "fold 10: training [2006 2007 2008 2009 2010 2011 2012 2013 2014 2015], validation [2016]"
      ],
      "metadata": {
        "id": "pJdLqHdF9SL5"
      }
    },
    {
      "cell_type": "markdown",
      "source": [
        "#Spot check Algorithms"
      ],
      "metadata": {
        "id": "kThud8iZ9XZR"
      }
    },
    {
      "cell_type": "code",
      "source": [
        "models = []\n",
        "models.append(('LR', LinearRegression()))\n",
        "models.append(('NN', MLPRegressor(solver = 'lbfgs')))  #neural network\n",
        "models.append(('KNN', KNeighborsRegressor())) \n",
        "models.append(('RF', RandomForestRegressor(n_estimators = 10))) # Ensemble method - collection of many decision trees\n",
        "models.append(('SVR', SVR(gamma='auto'))) # kernel = linear\n",
        "# Evaluate each model in turn\n",
        "results = []\n",
        "names = []\n",
        "for name, model in models:\n",
        "    # TimeSeries Cross validation\n",
        " tscv = TimeSeriesSplit(n_splits=10)\n",
        "    \n",
        " cv_results = cross_val_score(model, X_train, y_train, cv=tscv, scoring='r2')\n",
        " results.append(cv_results)\n",
        " names.append(name)\n",
        " print('%s: %f (%f)' % (name, cv_results.mean(), cv_results.std()))\n",
        "    \n",
        "# Compare Algorithms\n",
        "plt.boxplot(results, labels=names)\n",
        "plt.title('Algorithm Comparison')\n",
        "plt.show()"
      ],
      "metadata": {
        "colab": {
          "base_uri": "https://localhost:8080/",
          "height": 1000
        },
        "id": "7Iu51xNM9F8F",
        "outputId": "b3c6e91d-882e-463a-b6be-3303214b1c96"
      },
      "execution_count": null,
      "outputs": [
        {
          "output_type": "stream",
          "name": "stdout",
          "text": [
            "LR: 0.343747 (0.029773)\n"
          ]
        },
        {
          "output_type": "stream",
          "name": "stderr",
          "text": [
            "/usr/local/lib/python3.7/dist-packages/sklearn/neural_network/_multilayer_perceptron.py:549: ConvergenceWarning: lbfgs failed to converge (status=1):\n",
            "STOP: TOTAL NO. of ITERATIONS REACHED LIMIT.\n",
            "\n",
            "Increase the number of iterations (max_iter) or scale the data as shown in:\n",
            "    https://scikit-learn.org/stable/modules/preprocessing.html\n",
            "  self.n_iter_ = _check_optimize_result(\"lbfgs\", opt_res, self.max_iter)\n",
            "/usr/local/lib/python3.7/dist-packages/sklearn/neural_network/_multilayer_perceptron.py:549: ConvergenceWarning: lbfgs failed to converge (status=1):\n",
            "STOP: TOTAL NO. of ITERATIONS REACHED LIMIT.\n",
            "\n",
            "Increase the number of iterations (max_iter) or scale the data as shown in:\n",
            "    https://scikit-learn.org/stable/modules/preprocessing.html\n",
            "  self.n_iter_ = _check_optimize_result(\"lbfgs\", opt_res, self.max_iter)\n",
            "/usr/local/lib/python3.7/dist-packages/sklearn/neural_network/_multilayer_perceptron.py:549: ConvergenceWarning: lbfgs failed to converge (status=1):\n",
            "STOP: TOTAL NO. of ITERATIONS REACHED LIMIT.\n",
            "\n",
            "Increase the number of iterations (max_iter) or scale the data as shown in:\n",
            "    https://scikit-learn.org/stable/modules/preprocessing.html\n",
            "  self.n_iter_ = _check_optimize_result(\"lbfgs\", opt_res, self.max_iter)\n",
            "/usr/local/lib/python3.7/dist-packages/sklearn/neural_network/_multilayer_perceptron.py:549: ConvergenceWarning: lbfgs failed to converge (status=1):\n",
            "STOP: TOTAL NO. of ITERATIONS REACHED LIMIT.\n",
            "\n",
            "Increase the number of iterations (max_iter) or scale the data as shown in:\n",
            "    https://scikit-learn.org/stable/modules/preprocessing.html\n",
            "  self.n_iter_ = _check_optimize_result(\"lbfgs\", opt_res, self.max_iter)\n",
            "/usr/local/lib/python3.7/dist-packages/sklearn/neural_network/_multilayer_perceptron.py:549: ConvergenceWarning: lbfgs failed to converge (status=1):\n",
            "STOP: TOTAL NO. of ITERATIONS REACHED LIMIT.\n",
            "\n",
            "Increase the number of iterations (max_iter) or scale the data as shown in:\n",
            "    https://scikit-learn.org/stable/modules/preprocessing.html\n",
            "  self.n_iter_ = _check_optimize_result(\"lbfgs\", opt_res, self.max_iter)\n",
            "/usr/local/lib/python3.7/dist-packages/sklearn/neural_network/_multilayer_perceptron.py:549: ConvergenceWarning: lbfgs failed to converge (status=1):\n",
            "STOP: TOTAL NO. of ITERATIONS REACHED LIMIT.\n",
            "\n",
            "Increase the number of iterations (max_iter) or scale the data as shown in:\n",
            "    https://scikit-learn.org/stable/modules/preprocessing.html\n",
            "  self.n_iter_ = _check_optimize_result(\"lbfgs\", opt_res, self.max_iter)\n",
            "/usr/local/lib/python3.7/dist-packages/sklearn/neural_network/_multilayer_perceptron.py:549: ConvergenceWarning: lbfgs failed to converge (status=1):\n",
            "STOP: TOTAL NO. of ITERATIONS REACHED LIMIT.\n",
            "\n",
            "Increase the number of iterations (max_iter) or scale the data as shown in:\n",
            "    https://scikit-learn.org/stable/modules/preprocessing.html\n",
            "  self.n_iter_ = _check_optimize_result(\"lbfgs\", opt_res, self.max_iter)\n",
            "/usr/local/lib/python3.7/dist-packages/sklearn/neural_network/_multilayer_perceptron.py:549: ConvergenceWarning: lbfgs failed to converge (status=1):\n",
            "STOP: TOTAL NO. of ITERATIONS REACHED LIMIT.\n",
            "\n",
            "Increase the number of iterations (max_iter) or scale the data as shown in:\n",
            "    https://scikit-learn.org/stable/modules/preprocessing.html\n",
            "  self.n_iter_ = _check_optimize_result(\"lbfgs\", opt_res, self.max_iter)\n"
          ]
        },
        {
          "output_type": "stream",
          "name": "stdout",
          "text": [
            "NN: 0.512419 (0.094369)\n",
            "KNN: 0.646307 (0.083185)\n",
            "RF: 0.626612 (0.077498)\n",
            "SVR: -0.117944 (0.157755)\n"
          ]
        },
        {
          "output_type": "display_data",
          "data": {
            "text/plain": [
              "<Figure size 432x288 with 1 Axes>"
            ],
            "image/png": "[encoded data removed]"
          },
          "metadata": {
            "needs_background": "light"
          }
        }
      ]
    },
    {
      "cell_type": "markdown",
      "source": [
        "Both KNN and RF perform equally well. But I personally prefer RF since this ensemble model (combine multiple ‘individual’ (diverse) models together and deliver superior prediction power.) can almost work out of the box and that is one reason why they are very popular."
      ],
      "metadata": {
        "id": "Clt3DtQeADqM"
      }
    },
    {
      "cell_type": "markdown",
      "source": [
        "#*Grid Searching Hyperparameters*"
      ],
      "metadata": {
        "id": "bcNWIBcXAGJ_"
      }
    },
    {
      "cell_type": "markdown",
      "source": [
        "#An optimal combination of hyperparameters maximizes a model’s performance without leading to a high variance problem (overfitting)."
      ],
      "metadata": {
        "id": "XAlDacBoAM9t"
      }
    },
    {
      "cell_type": "code",
      "source": [
        "from sklearn.model_selection import GridSearchCV\n",
        "from sklearn.metrics import mean_squared_error\n",
        "model = RandomForestRegressor()\n",
        "param_search={\n",
        "    'n_estimators':[20,50,100],\n",
        "    'max_features':['auto','sqrt','log2'],\n",
        "    'max_depth':[i for i in range(5,15)]\n",
        "    }\n",
        "\n",
        "tscv = TimeSeriesSplit(n_splits=10)\n",
        "gsearch = GridSearchCV(estimator=model, cv=tscv, param_grid=param_search, scoring = rmse_score)\n",
        "gsearch.fit(X_train, y_train)\n",
        "best_score = gsearch.best_score_\n",
        "best_model = gsearch.best_estimator_"
      ],
      "metadata": {
        "colab": {
          "base_uri": "https://localhost:8080/",
          "height": 236
        },
        "id": "rXQLh4Lb9fLF",
        "outputId": "1e302d7a-2030-4925-81ba-a4e36cb81a79"
      },
      "execution_count": null,
      "outputs": [
        {
          "output_type": "error",
          "ename": "NameError",
          "evalue": "ignored",
          "traceback": [
            "\u001b[0;31m---------------------------------------------------------------------------\u001b[0m",
            "\u001b[0;31mNameError\u001b[0m                                 Traceback (most recent call last)",
            "\u001b[0;32m<ipython-input-40-874926765582>\u001b[0m in \u001b[0;36m<module>\u001b[0;34m()\u001b[0m\n\u001b[1;32m      9\u001b[0m \u001b[0;34m\u001b[0m\u001b[0m\n\u001b[1;32m     10\u001b[0m \u001b[0mtscv\u001b[0m \u001b[0;34m=\u001b[0m \u001b[0mTimeSeriesSplit\u001b[0m\u001b[0;34m(\u001b[0m\u001b[0mn_splits\u001b[0m\u001b[0;34m=\u001b[0m\u001b[0;36m10\u001b[0m\u001b[0;34m)\u001b[0m\u001b[0;34m\u001b[0m\u001b[0;34m\u001b[0m\u001b[0m\n\u001b[0;32m---> 11\u001b[0;31m \u001b[0mgsearch\u001b[0m \u001b[0;34m=\u001b[0m \u001b[0mGridSearchCV\u001b[0m\u001b[0;34m(\u001b[0m\u001b[0mestimator\u001b[0m\u001b[0;34m=\u001b[0m\u001b[0mmodel\u001b[0m\u001b[0;34m,\u001b[0m \u001b[0mcv\u001b[0m\u001b[0;34m=\u001b[0m\u001b[0mtscv\u001b[0m\u001b[0;34m,\u001b[0m \u001b[0mparam_grid\u001b[0m\u001b[0;34m=\u001b[0m\u001b[0mparam_search\u001b[0m\u001b[0;34m,\u001b[0m \u001b[0mscoring\u001b[0m \u001b[0;34m=\u001b[0m \u001b[0mrmse_score\u001b[0m\u001b[0;34m)\u001b[0m\u001b[0;34m\u001b[0m\u001b[0;34m\u001b[0m\u001b[0m\n\u001b[0m\u001b[1;32m     12\u001b[0m \u001b[0mgsearch\u001b[0m\u001b[0;34m.\u001b[0m\u001b[0mfit\u001b[0m\u001b[0;34m(\u001b[0m\u001b[0mX_train\u001b[0m\u001b[0;34m,\u001b[0m \u001b[0my_train\u001b[0m\u001b[0;34m)\u001b[0m\u001b[0;34m\u001b[0m\u001b[0;34m\u001b[0m\u001b[0m\n\u001b[1;32m     13\u001b[0m \u001b[0mbest_score\u001b[0m \u001b[0;34m=\u001b[0m \u001b[0mgsearch\u001b[0m\u001b[0;34m.\u001b[0m\u001b[0mbest_score_\u001b[0m\u001b[0;34m\u001b[0m\u001b[0;34m\u001b[0m\u001b[0m\n",
            "\u001b[0;31mNameError\u001b[0m: name 'rmse_score' is not defined"
          ]
        }
      ]
    },
    {
      "cell_type": "code",
      "source": [
        "from sklearn.metrics import make_scorer\n",
        "def rmse(actual, predict):\n",
        "  predict = np.array(predict)\n",
        "  actual = np.array(actual)\n",
        "  distance = predict - actual\n",
        "  square_distance = distance ** 2\n",
        "  mean_square_distance = square_distance.mean()\n",
        "  score = np.sqrt(mean_square_distance)\n",
        "  return score\n",
        "rmse_score = make_scorer(rmse, greater_is_better = False)"
      ],
      "metadata": {
        "id": "lFw3fgBmAvF9"
      },
      "execution_count": null,
      "outputs": []
    },
    {
      "cell_type": "markdown",
      "source": [
        "#Checking best model performance on test data"
      ],
      "metadata": {
        "id": "h2LuVZ-ECQ5r"
      }
    },
    {
      "cell_type": "code",
      "source": [
        "y_true = y_test.values\n",
        "y_pred = best_model.predict(X_test)\n",
        "regression_results(y_true, y_pred)"
      ],
      "metadata": {
        "colab": {
          "base_uri": "https://localhost:8080/",
          "height": 201
        },
        "id": "h9JbjlIrCAL7",
        "outputId": "5b00b18d-373f-4901-bd32-3c243ed5003c"
      },
      "execution_count": null,
      "outputs": [
        {
          "output_type": "error",
          "ename": "NameError",
          "evalue": "ignored",
          "traceback": [
            "\u001b[0;31m---------------------------------------------------------------------------\u001b[0m",
            "\u001b[0;31mNameError\u001b[0m                                 Traceback (most recent call last)",
            "\u001b[0;32m<ipython-input-45-bc0d23d71415>\u001b[0m in \u001b[0;36m<module>\u001b[0;34m()\u001b[0m\n\u001b[1;32m      1\u001b[0m \u001b[0my_true\u001b[0m \u001b[0;34m=\u001b[0m \u001b[0my_test\u001b[0m\u001b[0;34m.\u001b[0m\u001b[0mvalues\u001b[0m\u001b[0;34m\u001b[0m\u001b[0;34m\u001b[0m\u001b[0m\n\u001b[0;32m----> 2\u001b[0;31m \u001b[0my_pred\u001b[0m \u001b[0;34m=\u001b[0m \u001b[0mbest_model\u001b[0m\u001b[0;34m.\u001b[0m\u001b[0mpredict\u001b[0m\u001b[0;34m(\u001b[0m\u001b[0mX_test\u001b[0m\u001b[0;34m)\u001b[0m\u001b[0;34m\u001b[0m\u001b[0;34m\u001b[0m\u001b[0m\n\u001b[0m\u001b[1;32m      3\u001b[0m \u001b[0mregression_results\u001b[0m\u001b[0;34m(\u001b[0m\u001b[0my_true\u001b[0m\u001b[0;34m,\u001b[0m \u001b[0my_pred\u001b[0m\u001b[0;34m)\u001b[0m\u001b[0;34m\u001b[0m\u001b[0;34m\u001b[0m\u001b[0m\n",
            "\u001b[0;31mNameError\u001b[0m: name 'best_model' is not defined"
          ]
        }
      ]
    },
    {
      "cell_type": "markdown",
      "source": [
        "#Feature Engineering Returns"
      ],
      "metadata": {
        "id": "pqf-zJIRCdfb"
      }
    },
    {
      "cell_type": "markdown",
      "source": [
        "Up until now, we have been using values at (t-1)th day to predict values on t date. Now, let us also use values from (t-2)days to predict consumption:"
      ],
      "metadata": {
        "id": "qAx10He6CgK7"
      }
    },
    {
      "cell_type": "code",
      "source": [
        "# creating copy of original dataframe\n",
        "data_consumption_2o = data_consumption.copy()\n",
        "# inserting column with yesterday-1 values\n",
        "data_consumption_2o['Yesterday-1'] = data_consumption_2o['Yesterday'].shift()\n",
        "# inserting column with difference in yesterday-1 and yesterday-2 values.\n",
        "data_consumption_2o['Yesterday-1_Diff'] = data_consumption_2o['Yesterday-1'].diff()\n",
        "# dropping NAs\n",
        "data_consumption_2o = data_consumption_2o.dropna()"
      ],
      "metadata": {
        "id": "v6OUQk88CUF-"
      },
      "execution_count": null,
      "outputs": []
    },
    {
      "cell_type": "code",
      "source": [
        "data_consumption_2o"
      ],
      "metadata": {
        "colab": {
          "base_uri": "https://localhost:8080/",
          "height": 455
        },
        "id": "SAfilqxKCkoY",
        "outputId": "387adc1b-afda-4529-c8a2-bcf4f3cc9c23"
      },
      "execution_count": null,
      "outputs": [
        {
          "output_type": "execute_result",
          "data": {
            "text/plain": [
              "            Consumption   Yesterday  Yesterday_Diff  Yesterday-1  \\\n",
              "Date                                                               \n",
              "2006-01-05   1477.13100  1457.21700        14.68400   1442.53300   \n",
              "2006-01-06   1403.42700  1477.13100        19.91400   1457.21700   \n",
              "2006-01-07   1300.28700  1403.42700       -73.70400   1477.13100   \n",
              "2006-01-08   1207.98500  1300.28700      -103.14000   1403.42700   \n",
              "2006-01-09   1529.32300  1207.98500       -92.30200   1300.28700   \n",
              "...                 ...         ...             ...          ...   \n",
              "2017-12-27   1263.94091  1130.11683        18.83345   1111.28338   \n",
              "2017-12-28   1299.86398  1263.94091       133.82408   1130.11683   \n",
              "2017-12-29   1295.08753  1299.86398        35.92307   1263.94091   \n",
              "2017-12-30   1215.44897  1295.08753        -4.77645   1299.86398   \n",
              "2017-12-31   1107.11488  1215.44897       -79.63856   1295.08753   \n",
              "\n",
              "            Yesterday-1_Diff  \n",
              "Date                          \n",
              "2006-01-05          62.01200  \n",
              "2006-01-06          14.68400  \n",
              "2006-01-07          19.91400  \n",
              "2006-01-08         -73.70400  \n",
              "2006-01-09        -103.14000  \n",
              "...                      ...  \n",
              "2017-12-27         -30.47392  \n",
              "2017-12-28          18.83345  \n",
              "2017-12-29         133.82408  \n",
              "2017-12-30          35.92307  \n",
              "2017-12-31          -4.77645  \n",
              "\n",
              "[4379 rows x 5 columns]"
            ],
            "text/html": [
              "\n",
              "  <div id=\"df-b05de026-559b-47af-a950-d44ce14058fc\">\n",
              "    <div class=\"colab-df-container\">\n",
              "      <div>\n",
              "<style scoped>\n",
              "    .dataframe tbody tr th:only-of-type {\n",
              "        vertical-align: middle;\n",
              "    }\n",
              "\n",
              "    .dataframe tbody tr th {\n",
              "        vertical-align: top;\n",
              "    }\n",
              "\n",
              "    .dataframe thead th {\n",
              "        text-align: right;\n",
              "    }\n",
              "</style>\n",
              "<table border=\"1\" class=\"dataframe\">\n",
              "  <thead>\n",
              "    <tr style=\"text-align: right;\">\n",
              "      <th></th>\n",
              "      <th>Consumption</th>\n",
              "      <th>Yesterday</th>\n",
              "      <th>Yesterday_Diff</th>\n",
              "      <th>Yesterday-1</th>\n",
              "      <th>Yesterday-1_Diff</th>\n",
              "    </tr>\n",
              "    <tr>\n",
              "      <th>Date</th>\n",
              "      <th></th>\n",
              "      <th></th>\n",
              "      <th></th>\n",
              "      <th></th>\n",
              "      <th></th>\n",
              "    </tr>\n",
              "  </thead>\n",
              "  <tbody>\n",
              "    <tr>\n",
              "      <th>2006-01-05</th>\n",
              "      <td>1477.13100</td>\n",
              "      <td>1457.21700</td>\n",
              "      <td>14.68400</td>\n",
              "      <td>1442.53300</td>\n",
              "      <td>62.01200</td>\n",
              "    </tr>\n",
              "    <tr>\n",
              "      <th>2006-01-06</th>\n",
              "      <td>1403.42700</td>\n",
              "      <td>1477.13100</td>\n",
              "      <td>19.91400</td>\n",
              "      <td>1457.21700</td>\n",
              "      <td>14.68400</td>\n",
              "    </tr>\n",
              "    <tr>\n",
              "      <th>2006-01-07</th>\n",
              "      <td>1300.28700</td>\n",
              "      <td>1403.42700</td>\n",
              "      <td>-73.70400</td>\n",
              "      <td>1477.13100</td>\n",
              "      <td>19.91400</td>\n",
              "    </tr>\n",
              "    <tr>\n",
              "      <th>2006-01-08</th>\n",
              "      <td>1207.98500</td>\n",
              "      <td>1300.28700</td>\n",
              "      <td>-103.14000</td>\n",
              "      <td>1403.42700</td>\n",
              "      <td>-73.70400</td>\n",
              "    </tr>\n",
              "    <tr>\n",
              "      <th>2006-01-09</th>\n",
              "      <td>1529.32300</td>\n",
              "      <td>1207.98500</td>\n",
              "      <td>-92.30200</td>\n",
              "      <td>1300.28700</td>\n",
              "      <td>-103.14000</td>\n",
              "    </tr>\n",
              "    <tr>\n",
              "      <th>...</th>\n",
              "      <td>...</td>\n",
              "      <td>...</td>\n",
              "      <td>...</td>\n",
              "      <td>...</td>\n",
              "      <td>...</td>\n",
              "    </tr>\n",
              "    <tr>\n",
              "      <th>2017-12-27</th>\n",
              "      <td>1263.94091</td>\n",
              "      <td>1130.11683</td>\n",
              "      <td>18.83345</td>\n",
              "      <td>1111.28338</td>\n",
              "      <td>-30.47392</td>\n",
              "    </tr>\n",
              "    <tr>\n",
              "      <th>2017-12-28</th>\n",
              "      <td>1299.86398</td>\n",
              "      <td>1263.94091</td>\n",
              "      <td>133.82408</td>\n",
              "      <td>1130.11683</td>\n",
              "      <td>18.83345</td>\n",
              "    </tr>\n",
              "    <tr>\n",
              "      <th>2017-12-29</th>\n",
              "      <td>1295.08753</td>\n",
              "      <td>1299.86398</td>\n",
              "      <td>35.92307</td>\n",
              "      <td>1263.94091</td>\n",
              "      <td>133.82408</td>\n",
              "    </tr>\n",
              "    <tr>\n",
              "      <th>2017-12-30</th>\n",
              "      <td>1215.44897</td>\n",
              "      <td>1295.08753</td>\n",
              "      <td>-4.77645</td>\n",
              "      <td>1299.86398</td>\n",
              "      <td>35.92307</td>\n",
              "    </tr>\n",
              "    <tr>\n",
              "      <th>2017-12-31</th>\n",
              "      <td>1107.11488</td>\n",
              "      <td>1215.44897</td>\n",
              "      <td>-79.63856</td>\n",
              "      <td>1295.08753</td>\n",
              "      <td>-4.77645</td>\n",
              "    </tr>\n",
              "  </tbody>\n",
              "</table>\n",
              "<p>4379 rows × 5 columns</p>\n",
              "</div>\n",
              "      <button class=\"colab-df-convert\" onclick=\"convertToInteractive('df-b05de026-559b-47af-a950-d44ce14058fc')\"\n",
              "              title=\"Convert this dataframe to an interactive table.\"\n",
              "              style=\"display:none;\">\n",
              "        \n",
              "  <svg xmlns=\"http://www.w3.org/2000/svg\" height=\"24px\"viewBox=\"0 0 24 24\"\n",
              "       width=\"24px\">\n",
              "    <path d=\"M0 0h24v24H0V0z\" fill=\"none\"/>\n",
              "    <path d=\"M18.56 5.44l.94 2.06.94-2.06 2.06-.94-2.06-.94-.94-2.06-.94 2.06-2.06.94zm-11 1L8.5 8.5l.94-2.06 2.06-.94-2.06-.94L8.5 2.5l-.94 2.06-2.06.94zm10 10l.94 2.06.94-2.06 2.06-.94-2.06-.94-.94-2.06-.94 2.06-2.06.94z\"/><path d=\"M17.41 7.96l-1.37-1.37c-.4-.4-.92-.59-1.43-.59-.52 0-1.04.2-1.43.59L10.3 9.45l-7.72 7.72c-.78.78-.78 2.05 0 2.83L4 21.41c.39.39.9.59 1.41.59.51 0 1.02-.2 1.41-.59l7.78-7.78 2.81-2.81c.8-.78.8-2.07 0-2.86zM5.41 20L4 18.59l7.72-7.72 1.47 1.35L5.41 20z\"/>\n",
              "  </svg>\n",
              "      </button>\n",
              "      \n",
              "  <style>\n",
              "    .colab-df-container {\n",
              "      display:flex;\n",
              "      flex-wrap:wrap;\n",
              "      gap: 12px;\n",
              "    }\n",
              "\n",
              "    .colab-df-convert {\n",
              "      background-color: #E8F0FE;\n",
              "      border: none;\n",
              "      border-radius: 50%;\n",
              "      cursor: pointer;\n",
              "      display: none;\n",
              "      fill: #1967D2;\n",
              "      height: 32px;\n",
              "      padding: 0 0 0 0;\n",
              "      width: 32px;\n",
              "    }\n",
              "\n",
              "    .colab-df-convert:hover {\n",
              "      background-color: #E2EBFA;\n",
              "      box-shadow: 0px 1px 2px rgba(60, 64, 67, 0.3), 0px 1px 3px 1px rgba(60, 64, 67, 0.15);\n",
              "      fill: #174EA6;\n",
              "    }\n",
              "\n",
              "    [theme=dark] .colab-df-convert {\n",
              "      background-color: #3B4455;\n",
              "      fill: #D2E3FC;\n",
              "    }\n",
              "\n",
              "    [theme=dark] .colab-df-convert:hover {\n",
              "      background-color: #434B5C;\n",
              "      box-shadow: 0px 1px 3px 1px rgba(0, 0, 0, 0.15);\n",
              "      filter: drop-shadow(0px 1px 2px rgba(0, 0, 0, 0.3));\n",
              "      fill: #FFFFFF;\n",
              "    }\n",
              "  </style>\n",
              "\n",
              "      <script>\n",
              "        const buttonEl =\n",
              "          document.querySelector('#df-b05de026-559b-47af-a950-d44ce14058fc button.colab-df-convert');\n",
              "        buttonEl.style.display =\n",
              "          google.colab.kernel.accessAllowed ? 'block' : 'none';\n",
              "\n",
              "        async function convertToInteractive(key) {\n",
              "          const element = document.querySelector('#df-b05de026-559b-47af-a950-d44ce14058fc');\n",
              "          const dataTable =\n",
              "            await google.colab.kernel.invokeFunction('convertToInteractive',\n",
              "                                                     [key], {});\n",
              "          if (!dataTable) return;\n",
              "\n",
              "          const docLinkHtml = 'Like what you see? Visit the ' +\n",
              "            '<a target=\"_blank\" href=https://colab.research.google.com/notebooks/data_table.ipynb>data table notebook</a>'\n",
              "            + ' to learn more about interactive tables.';\n",
              "          element.innerHTML = '';\n",
              "          dataTable['output_type'] = 'display_data';\n",
              "          await google.colab.output.renderOutput(dataTable, element);\n",
              "          const docLink = document.createElement('div');\n",
              "          docLink.innerHTML = docLinkHtml;\n",
              "          element.appendChild(docLink);\n",
              "        }\n",
              "      </script>\n",
              "    </div>\n",
              "  </div>\n",
              "  "
            ]
          },
          "metadata": {},
          "execution_count": 47
        }
      ]
    },
    {
      "cell_type": "markdown",
      "source": [
        "#Resetting the train and test set"
      ],
      "metadata": {
        "id": "xcv8X3yOCrLJ"
      }
    },
    {
      "cell_type": "code",
      "source": [
        "X_train_2o = data_consumption_2o[:'2016'].drop(['Consumption'], axis = 1)\n",
        "y_train_2o = data_consumption_2o.loc[:'2016', 'Consumption']\n",
        "X_test = data_consumption_2o['2017'].drop(['Consumption'], axis = 1)\n",
        "y_test = data_consumption_2o.loc['2017', 'Consumption']"
      ],
      "metadata": {
        "colab": {
          "base_uri": "https://localhost:8080/"
        },
        "id": "R-QVqiSeCni1",
        "outputId": "36c206f6-364e-44f3-d1fe-f5a9a33d718a"
      },
      "execution_count": null,
      "outputs": [
        {
          "output_type": "stream",
          "name": "stderr",
          "text": [
            "/usr/local/lib/python3.7/dist-packages/ipykernel_launcher.py:3: FutureWarning: Indexing a DataFrame with a datetimelike index using a single string to slice the rows, like `frame[string]`, is deprecated and will be removed in a future version. Use `frame.loc[string]` instead.\n",
            "  This is separate from the ipykernel package so we can avoid doing imports until\n"
          ]
        }
      ]
    },
    {
      "cell_type": "markdown",
      "source": [
        "#Checking to see if the ‘best’ random forest using ‘new’ predictors performs better"
      ],
      "metadata": {
        "id": "_SFfVDiDCw57"
      }
    },
    {
      "cell_type": "code",
      "source": [
        "model = RandomForestRegressor()\n",
        "param_search = { \n",
        "    'n_estimators': [20, 50, 100],\n",
        "    'max_features': ['auto', 'sqrt', 'log2'],\n",
        "    'max_depth' : [i for i in range(5,15)]\n",
        "}\n",
        "tscv = TimeSeriesSplit(n_splits=10)\n",
        "gsearch = GridSearchCV(estimator=model, cv=tscv, param_grid=param_search, scoring = rmse_score)\n",
        "gsearch.fit(X_train_2o, y_train_2o)\n",
        "best_score = gsearch.best_score_\n",
        "best_model = gsearch.best_estimator_\n",
        "y_true = y_test.values\n",
        "y_pred = best_model.predict(X_test)\n",
        "regression_results(y_true, y_pred)"
      ],
      "metadata": {
        "colab": {
          "base_uri": "https://localhost:8080/"
        },
        "id": "f8KPyOz5Ct0T",
        "outputId": "e949f0f1-84a5-4f01-c50c-e009db2667cb"
      },
      "execution_count": null,
      "outputs": [
        {
          "output_type": "stream",
          "name": "stdout",
          "text": [
            "explained_variance:  0.8375\n",
            "mean_squared_log_error:  0.0025\n",
            "r2:  0.8375\n",
            "MAE:  40.7685\n",
            "MSE:  4400.0338\n",
            "RMSE:  66.3328\n"
          ]
        }
      ]
    },
    {
      "cell_type": "markdown",
      "source": [
        "#Feature Engineering strikes back"
      ],
      "metadata": {
        "id": "BozmvrG8DWoS"
      }
    },
    {
      "cell_type": "code",
      "source": [
        "data_consumption_2o_solar = data_consumption_2o.join(data[['Solar']])\n",
        "data_consumption_2o_solar = data_consumption_2o_solar.dropna()"
      ],
      "metadata": {
        "id": "s_mACRo9Czz0"
      },
      "execution_count": null,
      "outputs": []
    },
    {
      "cell_type": "code",
      "source": [
        "data_consumption_2o_solar"
      ],
      "metadata": {
        "colab": {
          "base_uri": "https://localhost:8080/",
          "height": 455
        },
        "id": "YS2wOoLHDZm1",
        "outputId": "4cb216cb-a2f3-4c3f-a561-8808f8e762bc"
      },
      "execution_count": null,
      "outputs": [
        {
          "output_type": "execute_result",
          "data": {
            "text/plain": [
              "            Consumption   Yesterday  Yesterday_Diff  Yesterday-1  \\\n",
              "Date                                                               \n",
              "2012-01-01    948.12800  1077.62500      -122.24100   1199.86600   \n",
              "2012-01-02   1269.58100   948.12800      -129.49700   1077.62500   \n",
              "2012-01-03   1334.74500  1269.58100       321.45300    948.12800   \n",
              "2012-01-04   1347.13600  1334.74500        65.16400   1269.58100   \n",
              "2012-01-05   1376.65800  1347.13600        12.39100   1334.74500   \n",
              "...                 ...         ...             ...          ...   \n",
              "2017-12-27   1263.94091  1130.11683        18.83345   1111.28338   \n",
              "2017-12-28   1299.86398  1263.94091       133.82408   1130.11683   \n",
              "2017-12-29   1295.08753  1299.86398        35.92307   1263.94091   \n",
              "2017-12-30   1215.44897  1295.08753        -4.77645   1299.86398   \n",
              "2017-12-31   1107.11488  1215.44897       -79.63856   1295.08753   \n",
              "\n",
              "            Yesterday-1_Diff   Solar  \n",
              "Date                                  \n",
              "2012-01-01         -27.02200   6.587  \n",
              "2012-01-02        -122.24100   6.574  \n",
              "2012-01-03        -129.49700  24.679  \n",
              "2012-01-04         321.45300  14.681  \n",
              "2012-01-05          65.16400   5.071  \n",
              "...                      ...     ...  \n",
              "2017-12-27         -30.47392  16.530  \n",
              "2017-12-28          18.83345  14.162  \n",
              "2017-12-29         133.82408  29.854  \n",
              "2017-12-30          35.92307   7.467  \n",
              "2017-12-31          -4.77645  19.980  \n",
              "\n",
              "[2188 rows x 6 columns]"
            ],
            "text/html": [
              "\n",
              "  <div id=\"df-0d58d617-055e-4b57-bc9b-9a3065b8cf39\">\n",
              "    <div class=\"colab-df-container\">\n",
              "      <div>\n",
              "<style scoped>\n",
              "    .dataframe tbody tr th:only-of-type {\n",
              "        vertical-align: middle;\n",
              "    }\n",
              "\n",
              "    .dataframe tbody tr th {\n",
              "        vertical-align: top;\n",
              "    }\n",
              "\n",
              "    .dataframe thead th {\n",
              "        text-align: right;\n",
              "    }\n",
              "</style>\n",
              "<table border=\"1\" class=\"dataframe\">\n",
              "  <thead>\n",
              "    <tr style=\"text-align: right;\">\n",
              "      <th></th>\n",
              "      <th>Consumption</th>\n",
              "      <th>Yesterday</th>\n",
              "      <th>Yesterday_Diff</th>\n",
              "      <th>Yesterday-1</th>\n",
              "      <th>Yesterday-1_Diff</th>\n",
              "      <th>Solar</th>\n",
              "    </tr>\n",
              "    <tr>\n",
              "      <th>Date</th>\n",
              "      <th></th>\n",
              "      <th></th>\n",
              "      <th></th>\n",
              "      <th></th>\n",
              "      <th></th>\n",
              "      <th></th>\n",
              "    </tr>\n",
              "  </thead>\n",
              "  <tbody>\n",
              "    <tr>\n",
              "      <th>2012-01-01</th>\n",
              "      <td>948.12800</td>\n",
              "      <td>1077.62500</td>\n",
              "      <td>-122.24100</td>\n",
              "      <td>1199.86600</td>\n",
              "      <td>-27.02200</td>\n",
              "      <td>6.587</td>\n",
              "    </tr>\n",
              "    <tr>\n",
              "      <th>2012-01-02</th>\n",
              "      <td>1269.58100</td>\n",
              "      <td>948.12800</td>\n",
              "      <td>-129.49700</td>\n",
              "      <td>1077.62500</td>\n",
              "      <td>-122.24100</td>\n",
              "      <td>6.574</td>\n",
              "    </tr>\n",
              "    <tr>\n",
              "      <th>2012-01-03</th>\n",
              "      <td>1334.74500</td>\n",
              "      <td>1269.58100</td>\n",
              "      <td>321.45300</td>\n",
              "      <td>948.12800</td>\n",
              "      <td>-129.49700</td>\n",
              "      <td>24.679</td>\n",
              "    </tr>\n",
              "    <tr>\n",
              "      <th>2012-01-04</th>\n",
              "      <td>1347.13600</td>\n",
              "      <td>1334.74500</td>\n",
              "      <td>65.16400</td>\n",
              "      <td>1269.58100</td>\n",
              "      <td>321.45300</td>\n",
              "      <td>14.681</td>\n",
              "    </tr>\n",
              "    <tr>\n",
              "      <th>2012-01-05</th>\n",
              "      <td>1376.65800</td>\n",
              "      <td>1347.13600</td>\n",
              "      <td>12.39100</td>\n",
              "      <td>1334.74500</td>\n",
              "      <td>65.16400</td>\n",
              "      <td>5.071</td>\n",
              "    </tr>\n",
              "    <tr>\n",
              "      <th>...</th>\n",
              "      <td>...</td>\n",
              "      <td>...</td>\n",
              "      <td>...</td>\n",
              "      <td>...</td>\n",
              "      <td>...</td>\n",
              "      <td>...</td>\n",
              "    </tr>\n",
              "    <tr>\n",
              "      <th>2017-12-27</th>\n",
              "      <td>1263.94091</td>\n",
              "      <td>1130.11683</td>\n",
              "      <td>18.83345</td>\n",
              "      <td>1111.28338</td>\n",
              "      <td>-30.47392</td>\n",
              "      <td>16.530</td>\n",
              "    </tr>\n",
              "    <tr>\n",
              "      <th>2017-12-28</th>\n",
              "      <td>1299.86398</td>\n",
              "      <td>1263.94091</td>\n",
              "      <td>133.82408</td>\n",
              "      <td>1130.11683</td>\n",
              "      <td>18.83345</td>\n",
              "      <td>14.162</td>\n",
              "    </tr>\n",
              "    <tr>\n",
              "      <th>2017-12-29</th>\n",
              "      <td>1295.08753</td>\n",
              "      <td>1299.86398</td>\n",
              "      <td>35.92307</td>\n",
              "      <td>1263.94091</td>\n",
              "      <td>133.82408</td>\n",
              "      <td>29.854</td>\n",
              "    </tr>\n",
              "    <tr>\n",
              "      <th>2017-12-30</th>\n",
              "      <td>1215.44897</td>\n",
              "      <td>1295.08753</td>\n",
              "      <td>-4.77645</td>\n",
              "      <td>1299.86398</td>\n",
              "      <td>35.92307</td>\n",
              "      <td>7.467</td>\n",
              "    </tr>\n",
              "    <tr>\n",
              "      <th>2017-12-31</th>\n",
              "      <td>1107.11488</td>\n",
              "      <td>1215.44897</td>\n",
              "      <td>-79.63856</td>\n",
              "      <td>1295.08753</td>\n",
              "      <td>-4.77645</td>\n",
              "      <td>19.980</td>\n",
              "    </tr>\n",
              "  </tbody>\n",
              "</table>\n",
              "<p>2188 rows × 6 columns</p>\n",
              "</div>\n",
              "      <button class=\"colab-df-convert\" onclick=\"convertToInteractive('df-0d58d617-055e-4b57-bc9b-9a3065b8cf39')\"\n",
              "              title=\"Convert this dataframe to an interactive table.\"\n",
              "              style=\"display:none;\">\n",
              "        \n",
              "  <svg xmlns=\"http://www.w3.org/2000/svg\" height=\"24px\"viewBox=\"0 0 24 24\"\n",
              "       width=\"24px\">\n",
              "    <path d=\"M0 0h24v24H0V0z\" fill=\"none\"/>\n",
              "    <path d=\"M18.56 5.44l.94 2.06.94-2.06 2.06-.94-2.06-.94-.94-2.06-.94 2.06-2.06.94zm-11 1L8.5 8.5l.94-2.06 2.06-.94-2.06-.94L8.5 2.5l-.94 2.06-2.06.94zm10 10l.94 2.06.94-2.06 2.06-.94-2.06-.94-.94-2.06-.94 2.06-2.06.94z\"/><path d=\"M17.41 7.96l-1.37-1.37c-.4-.4-.92-.59-1.43-.59-.52 0-1.04.2-1.43.59L10.3 9.45l-7.72 7.72c-.78.78-.78 2.05 0 2.83L4 21.41c.39.39.9.59 1.41.59.51 0 1.02-.2 1.41-.59l7.78-7.78 2.81-2.81c.8-.78.8-2.07 0-2.86zM5.41 20L4 18.59l7.72-7.72 1.47 1.35L5.41 20z\"/>\n",
              "  </svg>\n",
              "      </button>\n",
              "      \n",
              "  <style>\n",
              "    .colab-df-container {\n",
              "      display:flex;\n",
              "      flex-wrap:wrap;\n",
              "      gap: 12px;\n",
              "    }\n",
              "\n",
              "    .colab-df-convert {\n",
              "      background-color: #E8F0FE;\n",
              "      border: none;\n",
              "      border-radius: 50%;\n",
              "      cursor: pointer;\n",
              "      display: none;\n",
              "      fill: #1967D2;\n",
              "      height: 32px;\n",
              "      padding: 0 0 0 0;\n",
              "      width: 32px;\n",
              "    }\n",
              "\n",
              "    .colab-df-convert:hover {\n",
              "      background-color: #E2EBFA;\n",
              "      box-shadow: 0px 1px 2px rgba(60, 64, 67, 0.3), 0px 1px 3px 1px rgba(60, 64, 67, 0.15);\n",
              "      fill: #174EA6;\n",
              "    }\n",
              "\n",
              "    [theme=dark] .colab-df-convert {\n",
              "      background-color: #3B4455;\n",
              "      fill: #D2E3FC;\n",
              "    }\n",
              "\n",
              "    [theme=dark] .colab-df-convert:hover {\n",
              "      background-color: #434B5C;\n",
              "      box-shadow: 0px 1px 3px 1px rgba(0, 0, 0, 0.15);\n",
              "      filter: drop-shadow(0px 1px 2px rgba(0, 0, 0, 0.3));\n",
              "      fill: #FFFFFF;\n",
              "    }\n",
              "  </style>\n",
              "\n",
              "      <script>\n",
              "        const buttonEl =\n",
              "          document.querySelector('#df-0d58d617-055e-4b57-bc9b-9a3065b8cf39 button.colab-df-convert');\n",
              "        buttonEl.style.display =\n",
              "          google.colab.kernel.accessAllowed ? 'block' : 'none';\n",
              "\n",
              "        async function convertToInteractive(key) {\n",
              "          const element = document.querySelector('#df-0d58d617-055e-4b57-bc9b-9a3065b8cf39');\n",
              "          const dataTable =\n",
              "            await google.colab.kernel.invokeFunction('convertToInteractive',\n",
              "                                                     [key], {});\n",
              "          if (!dataTable) return;\n",
              "\n",
              "          const docLinkHtml = 'Like what you see? Visit the ' +\n",
              "            '<a target=\"_blank\" href=https://colab.research.google.com/notebooks/data_table.ipynb>data table notebook</a>'\n",
              "            + ' to learn more about interactive tables.';\n",
              "          element.innerHTML = '';\n",
              "          dataTable['output_type'] = 'display_data';\n",
              "          await google.colab.output.renderOutput(dataTable, element);\n",
              "          const docLink = document.createElement('div');\n",
              "          docLink.innerHTML = docLinkHtml;\n",
              "          element.appendChild(docLink);\n",
              "        }\n",
              "      </script>\n",
              "    </div>\n",
              "  </div>\n",
              "  "
            ]
          },
          "metadata": {},
          "execution_count": 51
        }
      ]
    },
    {
      "cell_type": "markdown",
      "source": [
        "Resetting Train/Test + GridSearch + Checking performance\n"
      ],
      "metadata": {
        "id": "aXwI0ufrDt-P"
      }
    },
    {
      "cell_type": "code",
      "source": [
        "X_train_2o_solar = data_consumption_2o_solar[:'2016'].drop(['Consumption'], axis = 1)\n",
        "y_train_2o_solar = data_consumption_2o_solar.loc[:'2016', 'Consumption']\n",
        "X_test = data_consumption_2o_solar['2017'].drop(['Consumption'], axis = 1)\n",
        "y_test = data_consumption_2o_solar.loc['2017', 'Consumption']\n",
        "model = RandomForestRegressor()\n",
        "param_search = { \n",
        "    'n_estimators': [20, 50, 100],\n",
        "    'max_features': ['auto', 'sqrt', 'log2'],\n",
        "    'max_depth' : [i for i in range(5,15)]\n",
        "}\n",
        "tscv = TimeSeriesSplit(n_splits=5)\n",
        "gsearch = GridSearchCV(estimator=model, cv=tscv, param_grid=param_search, scoring = rmse_score)\n",
        "gsearch.fit(X_train_2o_solar, y_train_2o_solar)\n",
        "best_score = gsearch.best_score_\n",
        "best_model = gsearch.best_estimator_\n",
        "y_true = y_test.values\n",
        "y_pred = best_model.predict(X_test)\n",
        "regression_results(y_true, y_pred)"
      ],
      "metadata": {
        "colab": {
          "base_uri": "https://localhost:8080/"
        },
        "id": "Yj7phMTXDdRH",
        "outputId": "4758f3f1-5416-4848-bdcc-b761534addd0"
      },
      "execution_count": null,
      "outputs": [
        {
          "output_type": "stream",
          "name": "stderr",
          "text": [
            "/usr/local/lib/python3.7/dist-packages/ipykernel_launcher.py:3: FutureWarning: Indexing a DataFrame with a datetimelike index using a single string to slice the rows, like `frame[string]`, is deprecated and will be removed in a future version. Use `frame.loc[string]` instead.\n",
            "  This is separate from the ipykernel package so we can avoid doing imports until\n"
          ]
        },
        {
          "output_type": "stream",
          "name": "stdout",
          "text": [
            "explained_variance:  0.8439\n",
            "mean_squared_log_error:  0.0024\n",
            "r2:  0.8438\n",
            "MAE:  39.2494\n",
            "MSE:  4228.6576\n",
            "RMSE:  65.0281\n"
          ]
        }
      ]
    },
    {
      "cell_type": "markdown",
      "source": [
        "Variable Importance Plot"
      ],
      "metadata": {
        "id": "HDFRxt1PD4kF"
      }
    },
    {
      "cell_type": "code",
      "source": [
        "imp = best_model.feature_importances_\n",
        "features = X_train_2o_solar.columns\n",
        "indices = np.argsort(imp)\n",
        "plt.title('Feature Importances')\n",
        "plt.barh(range(len(indices)), imp[indices], color='b', align='center')\n",
        "plt.yticks(range(len(indices)), [features[i] for i in indices])\n",
        "plt.xlabel('Relative Importance')\n",
        "plt.show()"
      ],
      "metadata": {
        "colab": {
          "base_uri": "https://localhost:8080/",
          "height": 295
        },
        "id": "4xyoAfU6D0t8",
        "outputId": "d9c03cb3-b696-47df-cbf2-1369d4a2ab9f"
      },
      "execution_count": null,
      "outputs": [
        {
          "output_type": "display_data",
          "data": {
            "text/plain": [
              "<Figure size 432x288 with 1 Axes>"
            ],
            "image/png": "[encoded data removed]"
          },
          "metadata": {
            "needs_background": "light"
          }
        }
      ]
    },
    {
      "cell_type": "markdown",
      "source": [
        "Feature Engineering Endgame"
      ],
      "metadata": {
        "id": "PTa7RfamEC5W"
      }
    },
    {
      "cell_type": "code",
      "source": [
        "data_consumption_2o_solar_weeklyShift = data_consumption_2o_solar.copy()\n",
        "data_consumption_2o_solar_weeklyShift['Last_Week'] = data_consumption_2o_solar['Consumption'].shift(7)\n",
        "data_consumption_2o_solar_weeklyShift = data_consumption_2o_solar_weeklyShift.dropna()"
      ],
      "metadata": {
        "id": "r4ZACoNqD9au"
      },
      "execution_count": null,
      "outputs": []
    },
    {
      "cell_type": "code",
      "source": [
        "data_consumption_2o_solar_weeklyShift "
      ],
      "metadata": {
        "colab": {
          "base_uri": "https://localhost:8080/",
          "height": 455
        },
        "id": "Q-E1kp50EGNf",
        "outputId": "b079d57f-1176-4af3-fef8-a43f9b0242aa"
      },
      "execution_count": null,
      "outputs": [
        {
          "output_type": "execute_result",
          "data": {
            "text/plain": [
              "            Consumption   Yesterday  Yesterday_Diff  Yesterday-1  \\\n",
              "Date                                                               \n",
              "2012-01-08   1103.38300  1175.68800      -115.52700   1291.21500   \n",
              "2012-01-09   1443.37100  1103.38300       -72.30500   1175.68800   \n",
              "2012-01-10   1434.63100  1443.37100       339.98800   1103.38300   \n",
              "2012-01-11   1449.76800  1434.63100        -8.74000   1443.37100   \n",
              "2012-01-12   1442.44800  1449.76800        15.13700   1434.63100   \n",
              "...                 ...         ...             ...          ...   \n",
              "2017-12-27   1263.94091  1130.11683        18.83345   1111.28338   \n",
              "2017-12-28   1299.86398  1263.94091       133.82408   1130.11683   \n",
              "2017-12-29   1295.08753  1299.86398        35.92307   1263.94091   \n",
              "2017-12-30   1215.44897  1295.08753        -4.77645   1299.86398   \n",
              "2017-12-31   1107.11488  1215.44897       -79.63856   1295.08753   \n",
              "\n",
              "            Yesterday-1_Diff   Solar   Last_Week  \n",
              "Date                                              \n",
              "2012-01-08         -85.44300   8.440   948.12800  \n",
              "2012-01-09        -115.52700   5.264  1269.58100  \n",
              "2012-01-10         -72.30500  17.827  1334.74500  \n",
              "2012-01-11         339.98800  10.849  1347.13600  \n",
              "2012-01-12          -8.74000  18.023  1376.65800  \n",
              "...                      ...     ...         ...  \n",
              "2017-12-27         -30.47392  16.530  1559.68569  \n",
              "2017-12-28          18.83345  14.162  1520.37206  \n",
              "2017-12-29         133.82408  29.854  1423.23782  \n",
              "2017-12-30          35.92307   7.467  1272.17085  \n",
              "2017-12-31          -4.77645  19.980  1141.75730  \n",
              "\n",
              "[2181 rows x 7 columns]"
            ],
            "text/html": [
              "\n",
              "  <div id=\"df-9272d744-816c-497d-bbc8-54154c33c624\">\n",
              "    <div class=\"colab-df-container\">\n",
              "      <div>\n",
              "<style scoped>\n",
              "    .dataframe tbody tr th:only-of-type {\n",
              "        vertical-align: middle;\n",
              "    }\n",
              "\n",
              "    .dataframe tbody tr th {\n",
              "        vertical-align: top;\n",
              "    }\n",
              "\n",
              "    .dataframe thead th {\n",
              "        text-align: right;\n",
              "    }\n",
              "</style>\n",
              "<table border=\"1\" class=\"dataframe\">\n",
              "  <thead>\n",
              "    <tr style=\"text-align: right;\">\n",
              "      <th></th>\n",
              "      <th>Consumption</th>\n",
              "      <th>Yesterday</th>\n",
              "      <th>Yesterday_Diff</th>\n",
              "      <th>Yesterday-1</th>\n",
              "      <th>Yesterday-1_Diff</th>\n",
              "      <th>Solar</th>\n",
              "      <th>Last_Week</th>\n",
              "    </tr>\n",
              "    <tr>\n",
              "      <th>Date</th>\n",
              "      <th></th>\n",
              "      <th></th>\n",
              "      <th></th>\n",
              "      <th></th>\n",
              "      <th></th>\n",
              "      <th></th>\n",
              "      <th></th>\n",
              "    </tr>\n",
              "  </thead>\n",
              "  <tbody>\n",
              "    <tr>\n",
              "      <th>2012-01-08</th>\n",
              "      <td>1103.38300</td>\n",
              "      <td>1175.68800</td>\n",
              "      <td>-115.52700</td>\n",
              "      <td>1291.21500</td>\n",
              "      <td>-85.44300</td>\n",
              "      <td>8.440</td>\n",
              "      <td>948.12800</td>\n",
              "    </tr>\n",
              "    <tr>\n",
              "      <th>2012-01-09</th>\n",
              "      <td>1443.37100</td>\n",
              "      <td>1103.38300</td>\n",
              "      <td>-72.30500</td>\n",
              "      <td>1175.68800</td>\n",
              "      <td>-115.52700</td>\n",
              "      <td>5.264</td>\n",
              "      <td>1269.58100</td>\n",
              "    </tr>\n",
              "    <tr>\n",
              "      <th>2012-01-10</th>\n",
              "      <td>1434.63100</td>\n",
              "      <td>1443.37100</td>\n",
              "      <td>339.98800</td>\n",
              "      <td>1103.38300</td>\n",
              "      <td>-72.30500</td>\n",
              "      <td>17.827</td>\n",
              "      <td>1334.74500</td>\n",
              "    </tr>\n",
              "    <tr>\n",
              "      <th>2012-01-11</th>\n",
              "      <td>1449.76800</td>\n",
              "      <td>1434.63100</td>\n",
              "      <td>-8.74000</td>\n",
              "      <td>1443.37100</td>\n",
              "      <td>339.98800</td>\n",
              "      <td>10.849</td>\n",
              "      <td>1347.13600</td>\n",
              "    </tr>\n",
              "    <tr>\n",
              "      <th>2012-01-12</th>\n",
              "      <td>1442.44800</td>\n",
              "      <td>1449.76800</td>\n",
              "      <td>15.13700</td>\n",
              "      <td>1434.63100</td>\n",
              "      <td>-8.74000</td>\n",
              "      <td>18.023</td>\n",
              "      <td>1376.65800</td>\n",
              "    </tr>\n",
              "    <tr>\n",
              "      <th>...</th>\n",
              "      <td>...</td>\n",
              "      <td>...</td>\n",
              "      <td>...</td>\n",
              "      <td>...</td>\n",
              "      <td>...</td>\n",
              "      <td>...</td>\n",
              "      <td>...</td>\n",
              "    </tr>\n",
              "    <tr>\n",
              "      <th>2017-12-27</th>\n",
              "      <td>1263.94091</td>\n",
              "      <td>1130.11683</td>\n",
              "      <td>18.83345</td>\n",
              "      <td>1111.28338</td>\n",
              "      <td>-30.47392</td>\n",
              "      <td>16.530</td>\n",
              "      <td>1559.68569</td>\n",
              "    </tr>\n",
              "    <tr>\n",
              "      <th>2017-12-28</th>\n",
              "      <td>1299.86398</td>\n",
              "      <td>1263.94091</td>\n",
              "      <td>133.82408</td>\n",
              "      <td>1130.11683</td>\n",
              "      <td>18.83345</td>\n",
              "      <td>14.162</td>\n",
              "      <td>1520.37206</td>\n",
              "    </tr>\n",
              "    <tr>\n",
              "      <th>2017-12-29</th>\n",
              "      <td>1295.08753</td>\n",
              "      <td>1299.86398</td>\n",
              "      <td>35.92307</td>\n",
              "      <td>1263.94091</td>\n",
              "      <td>133.82408</td>\n",
              "      <td>29.854</td>\n",
              "      <td>1423.23782</td>\n",
              "    </tr>\n",
              "    <tr>\n",
              "      <th>2017-12-30</th>\n",
              "      <td>1215.44897</td>\n",
              "      <td>1295.08753</td>\n",
              "      <td>-4.77645</td>\n",
              "      <td>1299.86398</td>\n",
              "      <td>35.92307</td>\n",
              "      <td>7.467</td>\n",
              "      <td>1272.17085</td>\n",
              "    </tr>\n",
              "    <tr>\n",
              "      <th>2017-12-31</th>\n",
              "      <td>1107.11488</td>\n",
              "      <td>1215.44897</td>\n",
              "      <td>-79.63856</td>\n",
              "      <td>1295.08753</td>\n",
              "      <td>-4.77645</td>\n",
              "      <td>19.980</td>\n",
              "      <td>1141.75730</td>\n",
              "    </tr>\n",
              "  </tbody>\n",
              "</table>\n",
              "<p>2181 rows × 7 columns</p>\n",
              "</div>\n",
              "      <button class=\"colab-df-convert\" onclick=\"convertToInteractive('df-9272d744-816c-497d-bbc8-54154c33c624')\"\n",
              "              title=\"Convert this dataframe to an interactive table.\"\n",
              "              style=\"display:none;\">\n",
              "        \n",
              "  <svg xmlns=\"http://www.w3.org/2000/svg\" height=\"24px\"viewBox=\"0 0 24 24\"\n",
              "       width=\"24px\">\n",
              "    <path d=\"M0 0h24v24H0V0z\" fill=\"none\"/>\n",
              "    <path d=\"M18.56 5.44l.94 2.06.94-2.06 2.06-.94-2.06-.94-.94-2.06-.94 2.06-2.06.94zm-11 1L8.5 8.5l.94-2.06 2.06-.94-2.06-.94L8.5 2.5l-.94 2.06-2.06.94zm10 10l.94 2.06.94-2.06 2.06-.94-2.06-.94-.94-2.06-.94 2.06-2.06.94z\"/><path d=\"M17.41 7.96l-1.37-1.37c-.4-.4-.92-.59-1.43-.59-.52 0-1.04.2-1.43.59L10.3 9.45l-7.72 7.72c-.78.78-.78 2.05 0 2.83L4 21.41c.39.39.9.59 1.41.59.51 0 1.02-.2 1.41-.59l7.78-7.78 2.81-2.81c.8-.78.8-2.07 0-2.86zM5.41 20L4 18.59l7.72-7.72 1.47 1.35L5.41 20z\"/>\n",
              "  </svg>\n",
              "      </button>\n",
              "      \n",
              "  <style>\n",
              "    .colab-df-container {\n",
              "      display:flex;\n",
              "      flex-wrap:wrap;\n",
              "      gap: 12px;\n",
              "    }\n",
              "\n",
              "    .colab-df-convert {\n",
              "      background-color: #E8F0FE;\n",
              "      border: none;\n",
              "      border-radius: 50%;\n",
              "      cursor: pointer;\n",
              "      display: none;\n",
              "      fill: #1967D2;\n",
              "      height: 32px;\n",
              "      padding: 0 0 0 0;\n",
              "      width: 32px;\n",
              "    }\n",
              "\n",
              "    .colab-df-convert:hover {\n",
              "      background-color: #E2EBFA;\n",
              "      box-shadow: 0px 1px 2px rgba(60, 64, 67, 0.3), 0px 1px 3px 1px rgba(60, 64, 67, 0.15);\n",
              "      fill: #174EA6;\n",
              "    }\n",
              "\n",
              "    [theme=dark] .colab-df-convert {\n",
              "      background-color: #3B4455;\n",
              "      fill: #D2E3FC;\n",
              "    }\n",
              "\n",
              "    [theme=dark] .colab-df-convert:hover {\n",
              "      background-color: #434B5C;\n",
              "      box-shadow: 0px 1px 3px 1px rgba(0, 0, 0, 0.15);\n",
              "      filter: drop-shadow(0px 1px 2px rgba(0, 0, 0, 0.3));\n",
              "      fill: #FFFFFF;\n",
              "    }\n",
              "  </style>\n",
              "\n",
              "      <script>\n",
              "        const buttonEl =\n",
              "          document.querySelector('#df-9272d744-816c-497d-bbc8-54154c33c624 button.colab-df-convert');\n",
              "        buttonEl.style.display =\n",
              "          google.colab.kernel.accessAllowed ? 'block' : 'none';\n",
              "\n",
              "        async function convertToInteractive(key) {\n",
              "          const element = document.querySelector('#df-9272d744-816c-497d-bbc8-54154c33c624');\n",
              "          const dataTable =\n",
              "            await google.colab.kernel.invokeFunction('convertToInteractive',\n",
              "                                                     [key], {});\n",
              "          if (!dataTable) return;\n",
              "\n",
              "          const docLinkHtml = 'Like what you see? Visit the ' +\n",
              "            '<a target=\"_blank\" href=https://colab.research.google.com/notebooks/data_table.ipynb>data table notebook</a>'\n",
              "            + ' to learn more about interactive tables.';\n",
              "          element.innerHTML = '';\n",
              "          dataTable['output_type'] = 'display_data';\n",
              "          await google.colab.output.renderOutput(dataTable, element);\n",
              "          const docLink = document.createElement('div');\n",
              "          docLink.innerHTML = docLinkHtml;\n",
              "          element.appendChild(docLink);\n",
              "        }\n",
              "      </script>\n",
              "    </div>\n",
              "  </div>\n",
              "  "
            ]
          },
          "metadata": {},
          "execution_count": 55
        }
      ]
    },
    {
      "cell_type": "markdown",
      "source": [
        "Resetting Train/Test + GridSearch + Checking performance"
      ],
      "metadata": {
        "id": "UTzLEtp2EPlU"
      }
    },
    {
      "cell_type": "code",
      "source": [
        "X_train_2o_solar_weeklyShift = data_consumption_2o_solar_weeklyShift[:'2016'].drop(['Consumption'], axis = 1)\n",
        "y_train_2o_solar_weeklyShift = data_consumption_2o_solar_weeklyShift.loc[:'2016', 'Consumption']\n",
        "X_test = data_consumption_2o_solar_weeklyShift['2017'].drop(['Consumption'], axis = 1)\n",
        "y_test = data_consumption_2o_solar_weeklyShift.loc['2017', 'Consumption']\n",
        "model = RandomForestRegressor()\n",
        "param_search = { \n",
        "    'n_estimators': [20, 50, 100],\n",
        "    'max_features': ['auto', 'sqrt', 'log2'],\n",
        "    'max_depth' : [i for i in range(5,15)]\n",
        "}\n",
        "tscv = TimeSeriesSplit(n_splits=10)\n",
        "gsearch = GridSearchCV(estimator=model, cv=tscv, param_grid=param_search, scoring = rmse_score)\n",
        "gsearch.fit(X_train_2o_solar_weeklyShift, y_train_2o_solar_weeklyShift)\n",
        "best_score = gsearch.best_score_\n",
        "best_model = gsearch.best_estimator_\n",
        "y_true = y_test.values\n",
        "y_pred = best_model.predict(X_test)\n",
        "regression_results(y_true, y_pred)"
      ],
      "metadata": {
        "colab": {
          "base_uri": "https://localhost:8080/"
        },
        "id": "tqO6yxTdEL2h",
        "outputId": "7c48a764-7a21-4439-f1fd-541011121448"
      },
      "execution_count": null,
      "outputs": [
        {
          "output_type": "stream",
          "name": "stderr",
          "text": [
            "/usr/local/lib/python3.7/dist-packages/ipykernel_launcher.py:3: FutureWarning: Indexing a DataFrame with a datetimelike index using a single string to slice the rows, like `frame[string]`, is deprecated and will be removed in a future version. Use `frame.loc[string]` instead.\n",
            "  This is separate from the ipykernel package so we can avoid doing imports until\n"
          ]
        },
        {
          "output_type": "stream",
          "name": "stdout",
          "text": [
            "explained_variance:  0.8941\n",
            "mean_squared_log_error:  0.0017\n",
            "r2:  0.8936\n",
            "MAE:  31.5704\n",
            "MSE:  2881.6655\n",
            "RMSE:  53.6811\n"
          ]
        }
      ]
    },
    {
      "cell_type": "markdown",
      "source": [
        "#Conclusion"
      ],
      "metadata": {
        "id": "Q7iCtJVrEmnc"
      }
    },
    {
      "cell_type": "markdown",
      "source": [
        "we learned how to model time series data, conduct cross-validation on time series data, and fine-tune our model hyperparameters. We also successfully managed to reduce the RMSE from 85.61 to 54.57 for predicting power consumption."
      ],
      "metadata": {
        "id": "AzIKXGYMEjLv"
      }
    },
    {
      "cell_type": "code",
      "source": [
        ""
      ],
      "metadata": {
        "id": "ftx-sYi0ET3K"
      },
      "execution_count": null,
      "outputs": []
    }
  ]
}